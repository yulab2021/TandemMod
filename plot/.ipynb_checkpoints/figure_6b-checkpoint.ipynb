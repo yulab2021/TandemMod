{
 "cells": [
  {
   "cell_type": "markdown",
   "id": "f3824124-abf0-420c-80ed-82c7fffa823e",
   "metadata": {},
   "source": [
    "### Ranked m6A-sites validated by m6A-seq"
   ]
  },
  {
   "cell_type": "code",
   "execution_count": 1,
   "id": "765e5295-3607-4aba-9f67-cc15ecc0b86c",
   "metadata": {},
   "outputs": [],
   "source": [
    "import matplotlib.pyplot as plt\n",
    "from matplotlib_venn import venn2\n",
    "import os\n",
    "\n",
    "met_peak=\"/home/wuyou/Projects/paper/rice/nbt_yuqiong/GSE135549_Nipp_shoot_rep2_gene_MeTPeak.bed\"   \n",
    "\n",
    "\n",
    "m6A_predict=\"/home/wuyou/Projects/paper/rice/predict/WT_m6A.predict.genome_loc.merge.tsv\"\n",
    "#out=open(\"data/WT_m6A.predict.genome_loc.merge.mod_sites.tsv\",\"w\")\n",
    "\n",
    "\n",
    "\n"
   ]
  },
  {
   "cell_type": "code",
   "execution_count": 4,
   "id": "024324e0-63c9-45da-bce9-3ede6d6bf0ed",
   "metadata": {},
   "outputs": [
    {
     "name": "stdout",
     "output_type": "stream",
     "text": [
      "Top modifid sites: 100 \t\tOverlap with m6ASeq: 87\n",
      "Top modifid sites: 500 \t\tOverlap with m6ASeq: 412\n",
      "Top modifid sites: 1000 \t\tOverlap with m6ASeq: 777\n",
      "Top modifid sites: 2000 \t\tOverlap with m6ASeq: 1481\n",
      "Top modifid sites: 5000 \t\tOverlap with m6ASeq: 3280\n",
      "Top modifid sites: 10000 \t\tOverlap with m6ASeq: 5578\n",
      "Top modifid sites: 20000 \t\tOverlap with m6ASeq: 9228\n"
     ]
    }
   ],
   "source": [
    "def write_top_mod_sites(mod_dict, output_file, top_count):\n",
    "    with open(output_file, \"w\") as out:\n",
    "        for i, id in enumerate(mod_dict):\n",
    "            if i == top_count:\n",
    "                break\n",
    "            out.write(id)\n",
    "\n",
    "            \n",
    "# Define mod_dict containing mod site IDs\n",
    "mod_dict={}\n",
    "with open(m6A_predict) as f:\n",
    "    for line in f:\n",
    "        gene=line.split(\"\\t\")[0].split(\".\")[0]\n",
    "        Chr=line.split(\"\\t\")[3]\n",
    "        start=line.split(\"\\t\")[4]\n",
    "        end=line.split(\"\\t\")[4]\n",
    "        \n",
    "        motif=line.split(\"\\t\")[2]\n",
    "        mod_count=int(line.split(\"\\t\")[11])\n",
    "        unmod_count=int(line.split(\"\\t\")[12])\n",
    "        if unmod_count>10 and mod_count/unmod_count>0.3:\n",
    "            id=\"%s\\t%s\\t%s\\n\" %(Chr,start,end)\n",
    "            mod_rate=mod_count/unmod_count\n",
    "            mod_dict[id]=[mod_rate,motif]\n",
    "#sort \n",
    "mod_dict=dict(sorted(mod_dict.items(), key=lambda item: item[1][0],reverse=True))\n",
    "\n",
    "\n",
    "# Define the respective top counts for each output file\n",
    "top_counts = [100, 500, 1000, 2000, 5000, 10000, 20000]\n",
    "\n",
    "# Write the top mod sites for each output file using a for loop\n",
    "for top_count in top_counts:\n",
    "    output_file = \"data/mod_sites.top%s.tsv\" %top_count\n",
    "    write_top_mod_sites(mod_dict, output_file, top_count)\n",
    "    cmd=\"~/.conda/envs/SQANTI3.env/bin/bedtools intersect -a %s -b %s  -wa >data/temp_overlap\" %(output_file,met_peak)\n",
    "    #print(cmd)\n",
    "    os.system(cmd)\n",
    "    cmd=\"wc -l data/temp_overlap\"\n",
    "    print(\"Top modifid sites:\", top_count, \"\\t\\tOverlap with m6ASeq:\",os.popen(cmd).read().split(\" \")[0])"
   ]
  },
  {
   "cell_type": "code",
   "execution_count": 5,
   "id": "d81c7f4f-f114-4d56-9cbe-37d61289db17",
   "metadata": {},
   "outputs": [
    {
     "name": "stdout",
     "output_type": "stream",
     "text": [
      "  Top predicted sites  Proportion of sites\\nvalidated by m6A-seq\n",
      "0                 100                                     0.8700\n",
      "1                 500                                     0.8240\n",
      "2                1000                                     0.7770\n",
      "3                2000                                     0.7405\n",
      "4                5000                                     0.6560\n",
      "5               10000                                     0.5578\n",
      "6               20000                                     0.4614\n"
     ]
    },
    {
     "name": "stderr",
     "output_type": "stream",
     "text": [
      "/home/wuyou/.conda/envs/sc/lib/python3.8/site-packages/plotnine/guides/guides.py:197: PlotnineWarning: Cannot generate legend for the 'fill' aesthetic. Make sure you have mapped a variable to it\n"
     ]
    },
    {
     "data": {
      "image/png": "[encoded data removed]",
      "text/plain": [
       "<Figure size 232x133 with 1 Axes>"
      ]
     },
     "metadata": {
      "image/png": {
       "height": 133,
       "width": 231
      }
     },
     "output_type": "display_data"
    },
    {
     "name": "stderr",
     "output_type": "stream",
     "text": [
      "/home/wuyou/.conda/envs/sc/lib/python3.8/site-packages/plotnine/ggplot.py:587: PlotnineWarning: Saving 2.32 x 1.33 in image.\n",
      "/home/wuyou/.conda/envs/sc/lib/python3.8/site-packages/plotnine/ggplot.py:588: PlotnineWarning: Filename: figure/figure_6b_rice_top_postions_validated_by_m6A-seq.pdf\n",
      "/home/wuyou/.conda/envs/sc/lib/python3.8/site-packages/plotnine/guides/guides.py:197: PlotnineWarning: Cannot generate legend for the 'fill' aesthetic. Make sure you have mapped a variable to it\n"
     ]
    },
    {
     "name": "stdout",
     "output_type": "stream",
     "text": [
      "\n"
     ]
    }
   ],
   "source": [
    "#plot\n",
    "\n",
    "import pandas as pd\n",
    "from plotnine import *\n",
    "import numpy as np\n",
    "\n",
    "black = '#222222'\n",
    "gray = '#666666'\n",
    "red = '#FF3333'\n",
    "green = '#66CC00'\n",
    "blue = '#3333FF'\n",
    "purple = '#9933FF'\n",
    "orange = '#FF8000'\n",
    "yellow = '#FFFF33'\n",
    "\n",
    "c1=\"#F8766D\"\n",
    "c2=\"#00BA38\"\n",
    "c3=\"#619CFF\"\n",
    "\n",
    "\"\"\"\n",
    "100 87\n",
    "500 412\n",
    "1000 777\n",
    "2000 1481\n",
    "5000 3280\n",
    "10000 5578\n",
    "20000 9228\n",
    "\"\"\"\n",
    "\n",
    "X=[\"100\",\"500\",\"1000\",\"2000\",\"5000\",\"10000\",\"20000\"]\n",
    "Y=[87/100,412/500,777/1000,1481/2000,3280/5000,5578/10000,9228/20000]\n",
    "#Y=np.log2(Y_curcake)\n",
    "data=pd.DataFrame({\"Top predicted sites\":X,\"Proportion of sites\\nvalidated by m6A-seq\":Y})\n",
    "\n",
    "data['Top predicted sites'] = pd.Categorical(data['Top predicted sites'], categories=pd.unique(data['Top predicted sites']))\n",
    "\n",
    "print(data)\n",
    "p1 = (ggplot()\n",
    "        +geom_bar(data,aes(x=\"Top predicted sites\",y = \"Proportion of sites\\nvalidated by m6A-seq\"),stat=\"identity\",position=\"stack\",alpha=0.8,width=0.6,fill=c1)\n",
    "        +scale_fill_manual(values=[gray,c1])\n",
    "        +theme(panel_background=element_rect(fill=gray, alpha=0),\n",
    "            panel_grid_major=element_line(size=0.3, alpha=0.3,color=black),\n",
    "            panel_grid_minor=element_line(size=0.3, alpha=0.3,color=black),\n",
    "            panel_border=element_rect(color=black, size=1),\n",
    "            axis_text=element_text(size=6,family=\"Arial\",color=\"black\"),\n",
    "            axis_title_x=element_text(size=6,family=\"Arial\",color=\"black\"),\n",
    "            axis_title_y=element_text(size=6,family=\"Arial\",color=\"black\"),\n",
    "            \n",
    "            #axis_text_x=element_text(rotation=45, hjust=0.5),\n",
    "            figure_size=[2.32,1.33],\n",
    "            legend_title = element_text(size=6), #change legend title font size\n",
    "            legend_text = element_text(size=6),\n",
    "            legend_background=element_rect(size=0.5,alpha=0),\n",
    "            #legend_position=(0.60,0.4),\n",
    "               \n",
    "            plot_title=element_text(margin={'b': 1, 'r': 0, 'units': 'pt'},size=6,family=\"Arial\",color=\"black\"),\n",
    "            \n",
    "            legend_position=None,\n",
    "            legend_key_size=4) #change legend text font size\n",
    "        #+labs(x = \"Kmer length\", y =\"sequence coverage\")\n",
    "        +guides(color = guide_legend(title = \"Probability cutoff\"))\n",
    "        #+ ggtitle(\"curlcake\")\n",
    "      +ylim([0,1])\n",
    "      +scale_color_manual(c1)\n",
    "     )\n",
    "print(p1)\n",
    "\n",
    "p1.save('figure/figure_6b_rice_top_postions_validated_by_m6A-seq.pdf')"
   ]
  },
  {
   "cell_type": "code",
   "execution_count": null,
   "id": "278dd16c-2692-4ec5-b6dc-8dddf67c6c59",
   "metadata": {},
   "outputs": [],
   "source": []
  }
 ],
 "metadata": {
  "kernelspec": {
   "display_name": "Python 3 (ipykernel)",
   "language": "python",
   "name": "python3"
  },
  "language_info": {
   "codemirror_mode": {
    "name": "ipython",
    "version": 3
   },
   "file_extension": ".py",
   "mimetype": "text/x-python",
   "name": "python",
   "nbconvert_exporter": "python",
   "pygments_lexer": "ipython3",
   "version": "3.8.13"
  }
 },
 "nbformat": 4,
 "nbformat_minor": 5
}
