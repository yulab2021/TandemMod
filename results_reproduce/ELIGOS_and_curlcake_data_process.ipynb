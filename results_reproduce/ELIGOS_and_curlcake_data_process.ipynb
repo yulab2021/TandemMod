{
 "cells": [
  {
   "cell_type": "markdown",
   "id": "804a23ec-37de-408e-8647-83099e44a06d",
   "metadata": {},
   "source": [
    "### Data processing of ELIGOS datasets"
   ]
  },
  {
   "cell_type": "markdown",
   "id": "999bf387-7dbc-41cd-84af-5a1dc8cf7bc4",
   "metadata": {},
   "source": [
    "#### ELIGOS normalA  "
   ]
  },
  {
   "cell_type": "code",
   "execution_count": null,
   "id": "3eba7a29-2512-433d-8a2b-d5763105b7f7",
   "metadata": {},
   "outputs": [],
   "source": [
    "#ELIGOS_normalA\n",
    "\n",
    "#basecalling\n",
    "guppy_basecaller -i IVT_normalA_fast5 -s IVT_normalA_guppy --num_callers 40 --recursive --fast5_out --config rna_r9.4.1_70bps_hac.cfg\n",
    "\n",
    "#multi to single\n",
    "multi_to_single_fast5 -i IVT_normalA_guppy -s IVT_normalA_guppy_single -t 40 --recursive \n",
    "\n",
    "#resquiggle\n",
    "tombo resquiggle --overwrite --basecall-group Basecall_1D_000 IVT_normalA_guppy_single ../data/ELIGOS.fasta --processes 20 --fit-global-scale --include-event-stdev\n",
    "cat IVT_normalA_guppy/*.fastq >IVT_normalA.fastq\n",
    "\n",
    "#map reads to reference\n",
    "minimap2 -ax map-ont /home/wuyou/Projects/paper/data/ELIGOS.fasta IVT_normalA.fastq > IVT_normalA.fastq.sam\n",
    "\n",
    "#feature extraction\n",
    "python scripts/extract_signal_from_fast5.py -p 40 --fast5 IVT_normalA_guppy_single --reference ../data/ELIGOS.fasta --sam IVT_normalA.fastq.sam --output IVT_normalA.signal.tsv --clip 10\n",
    "python scripts/extract_feature_from_signal.py  --signal_file IVT_normalA.signal.tsv --clip 10 --output IVT_normalA.feature.tsv --motif NNANN\n"
   ]
  },
  {
   "cell_type": "markdown",
   "id": "c5bd19a8-ae3c-45e3-9df9-a785cb32b992",
   "metadata": {},
   "source": [
    "#### ELIGOS normalC"
   ]
  },
  {
   "cell_type": "code",
   "execution_count": null,
   "id": "7841d9d0-4904-47d8-8dd3-d0bd77a768f4",
   "metadata": {},
   "outputs": [],
   "source": [
    "#ELIGOS_normalC\n",
    "\n",
    "#basecalling\n",
    "guppy_basecaller -i IVT_normalC_fast5 -s IVT_normalC_guppy --num_callers 40 --recursive --fast5_out --config rna_r9.4.1_70bps_hac.cfg\n",
    "\n",
    "#multi to single\n",
    "multi_to_single_fast5 -i IVT_normalC_guppy -s IVT_normalC_guppy_single -t 40 --recursive \n",
    "\n",
    "#resquiggle\n",
    "tombo resquiggle --overwrite --basecall-group Basecall_1D_000 IVT_normalC_guppy_single ../data/ELIGOS.fasta --processes 20 --fit-global-scale --include-event-stdev\n",
    "cat IVT_normalC_guppy/*.fastq >IVT_normalC.fastq\n",
    "\n",
    "#map reads to reference\n",
    "minimap2 -ax map-ont /home/wuyou/Projects/paper/data/ELIGOS.fasta IVT_normalC.fastq > IVT_normalC.fastq.sam\n",
    "\n",
    "#feature extraction\n",
    "python scripts/extract_signal_from_fast5.py -p 40 --fast5 IVT_normalC_guppy_single --reference ../data/ELIGOS.fasta --sam IVT_normalC.fastq.sam --output IVT_normalC.signal.tsv --clip 10\n",
    "python scripts/extract_feature_from_signal.py  --signal_file IVT_normalC.signal.tsv --clip 10 --output IVT_normalC.feature.tsv --motif NNCNN\n"
   ]
  },
  {
   "cell_type": "markdown",
   "id": "e5ff0bc2-393c-4d9c-aa43-7d16391ca933",
   "metadata": {},
   "source": [
    "#### ELIGOS normalG"
   ]
  },
  {
   "cell_type": "code",
   "execution_count": null,
   "id": "7d608faf-5545-4624-ba52-98d3bc10e601",
   "metadata": {},
   "outputs": [],
   "source": [
    "#ELIGOS_normalG\n",
    "\n",
    "#basecalling\n",
    "guppy_basecaller -i IVT_normalG_fast5 -s IVT_normalG_guppy --num_callers 40 --recursive --fast5_out --config rna_r9.4.1_70bps_hac.cfg\n",
    "\n",
    "#multi to single\n",
    "multi_to_single_fast5 -i IVT_normalG_guppy -s IVT_normalG_guppy_single -t 40 --recursive \n",
    "\n",
    "#resquiggle\n",
    "tombo resquiggle --overwrite --basecall-group Basecall_1D_000 IVT_normalG_guppy_single ../data/ELIGOS.fasta --processes 20 --fit-global-scale --include-event-stdev\n",
    "cat IVT_normalG_guppy/*.fastq >IVT_normalG.fastq\n",
    "\n",
    "#map reads to reference\n",
    "minimap2 -ax map-ont /home/wuyou/Projects/paper/data/ELIGOS.fasta IVT_normalG.fastq > IVT_normalG.fastq.sam\n",
    "\n",
    "#feature extraction\n",
    "python scripts/extract_signal_from_fast5.py -p 40 --fast5 IVT_normalG_guppy_single --reference ../data/ELIGOS.fasta --sam IVT_normalG.fastq.sam --output IVT_normalG.signal.tsv --clip 10\n",
    "python scripts/extract_feature_from_signal.py  --signal_file IVT_normalG.signal.tsv --clip 10 --output IVT_normalG.feature.tsv --motif NNGNN\n"
   ]
  },
  {
   "cell_type": "markdown",
   "id": "a511b9fc-03a7-4bc4-9dde-f6309157c4ee",
   "metadata": {},
   "source": [
    "#### ELIGOS normalU"
   ]
  },
  {
   "cell_type": "code",
   "execution_count": null,
   "id": "00799e97-e5a8-4ea4-8fe0-5b3e19e48864",
   "metadata": {},
   "outputs": [],
   "source": [
    "#ELIGOS_normalU\n",
    "\n",
    "#basecalling\n",
    "guppy_basecaller -i IVT_normalU_fast5 -s IVT_normalU_guppy --num_callers 40 --recursive --fast5_out --config rna_r9.4.1_70bps_hac.cfg\n",
    "\n",
    "#multi to single\n",
    "multi_to_single_fast5 -i IVT_normalU_guppy -s IVT_normalU_guppy_single -t 40 --recursive \n",
    "\n",
    "#resquiggle\n",
    "tombo resquiggle --overwrite --basecall-group Basecall_1D_000 IVT_normalU_guppy_single ../data/ELIGOS.fasta --processes 20 --fit-global-scale --include-event-stdev\n",
    "cat IVT_normalU_guppy/*.fastq >IVT_normalU.fastq\n",
    "\n",
    "#map reads to reference\n",
    "minimap2 -ax map-ont /home/wuyou/Projects/paper/data/ELIGOS.fasta IVT_normalU.fastq > IVT_normalU.fastq.sam\n",
    "\n",
    "#feature extraction\n",
    "python scripts/extract_signal_from_fast5.py -p 40 --fast5 IVT_normalU_guppy_single --reference ../data/ELIGOS.fasta --sam IVT_normalU.fastq.sam --output IVT_normalU.signal.tsv --clip 10\n",
    "python scripts/extract_feature_from_signal.py  --signal_file IVT_normalU.signal.tsv --clip 10 --output IVT_normalU.feature.tsv --motif NNTNN"
   ]
  },
  {
   "cell_type": "markdown",
   "id": "bca29566-ba0a-4331-a523-7ab49f6bef63",
   "metadata": {},
   "source": [
    "#### ELIGOS m1A"
   ]
  },
  {
   "cell_type": "code",
   "execution_count": null,
   "id": "c3e3108d-ede5-4a08-af66-12e0d8f4c342",
   "metadata": {},
   "outputs": [],
   "source": [
    "#ELIGOS_m1A\n",
    "\n",
    "#basecalling\n",
    "guppy_basecaller -i IVT_m1A_fast5 -s IVT_m1A_guppy --num_callers 40 --recursive --fast5_out --config rna_r9.4.1_70bps_hac.cfg\n",
    "\n",
    "#multi to single\n",
    "multi_to_single_fast5 -i IVT_m1A_guppy -s IVT_m1A_guppy_single -t 40 --recursive \n",
    "\n",
    "#resquiggle\n",
    "tombo resquiggle --overwrite --basecall-group Basecall_1D_000 IVT_m1A_guppy_single ../data/ELIGOS.fasta --processes 20 --fit-global-scale --include-event-stdev\n",
    "cat IVT_m1A_guppy/*.fastq >IVT_m1A.fastq\n",
    "\n",
    "#map reads to reference\n",
    "minimap2 -ax map-ont /home/wuyou/Projects/paper/data/ELIGOS.fasta IVT_m1A.fastq > IVT_m1A.fastq.sam\n",
    "\n",
    "#feature extraction\n",
    "python scripts/extract_signal_from_fast5.py -p 40 --fast5 IVT_m1A_guppy_single --reference ../data/ELIGOS.fasta --sam IVT_m1A.fastq.sam --output IVT_m1A.signal.tsv --clip 10\n",
    "python scripts/extract_feature_from_signal.py  --signal_file IVT_m1A.signal.tsv --clip 10 --output IVT_m1A.feature.tsv --motif NNANN"
   ]
  },
  {
   "cell_type": "markdown",
   "id": "f43309c1-0b14-4790-99a1-ed7c9e7a0d6c",
   "metadata": {},
   "source": [
    "#### ELIGOS m6A"
   ]
  },
  {
   "cell_type": "code",
   "execution_count": null,
   "id": "7a257c83-a8dc-4941-97b9-3ecfff5145fb",
   "metadata": {},
   "outputs": [],
   "source": [
    "#ELIGOS_m6A\n",
    "\n",
    "#basecalling\n",
    "guppy_basecaller -i IVT_m6A_fast5 -s IVT_m6A_guppy --num_callers 40 --recursive --fast5_out --config rna_r9.4.1_70bps_hac.cfg\n",
    "\n",
    "#multi to single\n",
    "multi_to_single_fast5 -i IVT_m6A_guppy -s IVT_m6A_guppy_single -t 40 --recursive \n",
    "\n",
    "#resquiggle\n",
    "tombo resquiggle --overwrite --basecall-group Basecall_1D_000 IVT_m6A_guppy_single ../data/ELIGOS.fasta --processes 20 --fit-global-scale --include-event-stdev\n",
    "cat IVT_m6A_guppy/*.fastq >IVT_m6A.fastq\n",
    "\n",
    "#map reads to reference\n",
    "minimap2 -ax map-ont /home/wuyou/Projects/paper/data/ELIGOS.fasta IVT_m6A.fastq > IVT_m6A.fastq.sam\n",
    "\n",
    "#feature extraction\n",
    "python scripts/extract_signal_from_fast5.py -p 40 --fast5 IVT_m6A_guppy_single --reference ../data/ELIGOS.fasta --sam IVT_m6A.fastq.sam --output IVT_m6A.signal.tsv --clip 10\n",
    "python scripts/extract_feature_from_signal.py  --signal_file IVT_m6A.signal.tsv --clip 10 --output IVT_m6A.feature.tsv --motif NNANN"
   ]
  },
  {
   "cell_type": "markdown",
   "id": "334cd371-95d2-4546-9687-713bce36803e",
   "metadata": {},
   "source": [
    "#### ELIGOS m5C"
   ]
  },
  {
   "cell_type": "code",
   "execution_count": null,
   "id": "b8b847ed-da23-4a4c-a936-14bd0b2e5dd2",
   "metadata": {},
   "outputs": [],
   "source": [
    "#ELIGOS_m5C\n",
    "\n",
    "#basecalling\n",
    "guppy_basecaller -i IVT_m5C_fast5 -s IVT_m5C_guppy --num_callers 40 --recursive --fast5_out --config rna_r9.4.1_70bps_hac.cfg\n",
    "\n",
    "#multi to single\n",
    "multi_to_single_fast5 -i IVT_m5C_guppy -s IVT_m5C_guppy_single -t 40 --recursive \n",
    "\n",
    "#resquiggle\n",
    "tombo resquiggle --overwrite --basecall-group Basecall_1D_000 IVT_m5C_guppy_single ../data/ELIGOS.fasta --processes 20 --fit-global-scale --include-event-stdev\n",
    "cat IVT_m5C_guppy/*.fastq >IVT_m5C.fastq\n",
    "\n",
    "#map reads to reference\n",
    "minimap2 -ax map-ont /home/wuyou/Projects/paper/data/ELIGOS.fasta IVT_m5C.fastq > IVT_m5C.fastq.sam\n",
    "\n",
    "#feature extraction\n",
    "python scripts/extract_signal_from_fast5.py -p 40 --fast5 IVT_m5C_guppy_single --reference ../data/ELIGOS.fasta --sam IVT_m5C.fastq.sam --output IVT_m5C.signal.tsv --clip 10\n",
    "python scripts/extract_feature_from_signal.py  --signal_file IVT_m5C.signal.tsv --clip 10 --output IVT_m5C.feature.tsv --motif NNCNN"
   ]
  },
  {
   "cell_type": "markdown",
   "id": "103a44f0-0ae2-4180-93c2-a4231900b621",
   "metadata": {},
   "source": [
    "#### ELIGOS hm5C"
   ]
  },
  {
   "cell_type": "code",
   "execution_count": null,
   "id": "ba0e01d7-ba71-40c9-acf5-e322378c2967",
   "metadata": {},
   "outputs": [],
   "source": [
    "#ELIGOS_hm5C\n",
    "\n",
    "#basecalling\n",
    "guppy_basecaller -i IVT_hm5C_fast5 -s IVT_hm5C_guppy --num_callers 40 --recursive --fast5_out --config rna_r9.4.1_70bps_hac.cfg\n",
    "\n",
    "#multi to single\n",
    "multi_to_single_fast5 -i IVT_hm5C_guppy -s IVT_hm5C_guppy_single -t 40 --recursive \n",
    "\n",
    "#resquiggle\n",
    "tombo resquiggle --overwrite --basecall-group Basecall_1D_000 IVT_hm5C_guppy_single ../data/ELIGOS.fasta --processes 20 --fit-global-scale --include-event-stdev\n",
    "cat IVT_hm5C_guppy/*.fastq >IVT_hm5C.fastq\n",
    "\n",
    "#map reads to reference\n",
    "minimap2 -ax map-ont /home/wuyou/Projects/paper/data/ELIGOS.fasta IVT_hm5C.fastq > IVT_hm5C.fastq.sam\n",
    "\n",
    "#feature extraction\n",
    "python scripts/extract_signal_from_fast5.py -p 40 --fast5 IVT_hm5C_guppy_single --reference ../data/ELIGOS.fasta --sam IVT_hm5C.fastq.sam --output IVT_hm5C.signal.tsv --clip 10\n",
    "python scripts/extract_feature_from_signal.py  --signal_file IVT_hm5C.signal.tsv --clip 10 --output IVT_hm5C.feature.tsv --motif NNCNN"
   ]
  },
  {
   "cell_type": "markdown",
   "id": "ebdb55fb-2d98-404c-a4cc-fb9183fcd594",
   "metadata": {},
   "source": [
    "#### ELIGOS m7G"
   ]
  },
  {
   "cell_type": "code",
   "execution_count": null,
   "id": "06735618-0321-4b27-94e6-06f4a459f534",
   "metadata": {},
   "outputs": [],
   "source": [
    "#ELIGOS_m7G\n",
    "\n",
    "#basecalling\n",
    "guppy_basecaller -i IVT_m7G_fast5 -s IVT_m7G_guppy --num_callers 40 --recursive --fast5_out --config rna_r9.4.1_70bps_hac.cfg\n",
    "\n",
    "#multi to single\n",
    "multi_to_single_fast5 -i IVT_m7G_guppy -s IVT_m7G_guppy_single -t 40 --recursive \n",
    "\n",
    "#resquiggle\n",
    "tombo resquiggle --overwrite --basecall-group Basecall_1D_000 IVT_m7G_guppy_single ../data/ELIGOS.fasta --processes 20 --fit-global-scale --include-event-stdev\n",
    "cat IVT_m7G_guppy/*.fastq >IVT_m7G.fastq\n",
    "\n",
    "#map reads to reference\n",
    "minimap2 -ax map-ont /home/wuyou/Projects/paper/data/ELIGOS.fasta IVT_m7G.fastq > IVT_m7G.fastq.sam\n",
    "\n",
    "#feature extraction\n",
    "python scripts/extract_signal_from_fast5.py -p 40 --fast5 IVT_m7G_guppy_single --reference ../data/ELIGOS.fasta --sam IVT_m7G.fastq.sam --output IVT_m7G.signal.tsv --clip 10\n",
    "python scripts/extract_feature_from_signal.py  --signal_file IVT_m7G.signal.tsv --clip 10 --output IVT_m7G.feature.tsv --motif NNGNN"
   ]
  },
  {
   "cell_type": "markdown",
   "id": "f29186a7-2738-40ba-a112-a7917894ac7b",
   "metadata": {},
   "source": [
    "#### ELIGOS psU"
   ]
  },
  {
   "cell_type": "code",
   "execution_count": null,
   "id": "a2d51cc2-bcd7-4a14-9d44-3d3098e026e9",
   "metadata": {},
   "outputs": [],
   "source": [
    "#ELIGOS_psU\n",
    "\n",
    "#basecalling\n",
    "guppy_basecaller -i IVT_psU_fast5 -s IVT_psU_guppy --num_callers 40 --recursive --fast5_out --config rna_r9.4.1_70bps_hac.cfg\n",
    "\n",
    "#multi to single\n",
    "multi_to_single_fast5 -i IVT_psU_guppy -s IVT_psU_guppy_single -t 40 --recursive \n",
    "\n",
    "#resquiggle\n",
    "tombo resquiggle --overwrite --basecall-group Basecall_1D_000 IVT_psU_guppy_single ../data/ELIGOS.fasta --processes 20 --fit-global-scale --include-event-stdev\n",
    "cat IVT_psU_guppy/*.fastq >IVT_psU.fastq\n",
    "\n",
    "#map reads to reference\n",
    "minimap2 -ax map-ont /home/wuyou/Projects/paper/data/ELIGOS.fasta IVT_psU.fastq > IVT_psU.fastq.sam\n",
    "\n",
    "#feature extraction\n",
    "python scripts/extract_signal_from_fast5.py -p 40 --fast5 IVT_psU_guppy_single --reference ../data/ELIGOS.fasta --sam IVT_psU.fastq.sam --output IVT_psU.signal.tsv --clip 10\n",
    "python scripts/extract_feature_from_signal.py  --signal_file IVT_psU.signal.tsv --clip 10 --output IVT_psU.feature.tsv --motif NNTNN"
   ]
  },
  {
   "cell_type": "markdown",
   "id": "6c6f7d69-17fb-49d8-8779-217bd3ab0956",
   "metadata": {},
   "source": [
    "#### curlcake"
   ]
  },
  {
   "cell_type": "code",
   "execution_count": null,
   "id": "c79ae6a3-92bf-47df-bcae-cf90a6a8bc5c",
   "metadata": {},
   "outputs": [],
   "source": []
  }
 ],
 "metadata": {
  "kernelspec": {
   "display_name": "Python 3 (ipykernel)",
   "language": "python",
   "name": "python3"
  },
  "language_info": {
   "codemirror_mode": {
    "name": "ipython",
    "version": 3
   },
   "file_extension": ".py",
   "mimetype": "text/x-python",
   "name": "python",
   "nbconvert_exporter": "python",
   "pygments_lexer": "ipython3",
   "version": "3.8.13"
  }
 },
 "nbformat": 4,
 "nbformat_minor": 5
}
