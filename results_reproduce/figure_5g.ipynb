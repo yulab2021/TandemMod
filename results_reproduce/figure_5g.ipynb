{
 "cells": [
  {
   "cell_type": "markdown",
   "id": "9e0bad06-1f48-4a37-8f85-0ad24e62ac75",
   "metadata": {},
   "source": [
    "### Validation of TandemMod on known modified sites"
   ]
  },
  {
   "cell_type": "code",
   "execution_count": 2,
   "id": "6c882203-21a8-4940-8ed8-33e27db5021e",
   "metadata": {},
   "outputs": [
    {
     "name": "stdout",
     "output_type": "stream",
     "text": [
      "WT mod ratio: 0.5076495132127955\n",
      "KO mod ratio: 0.07692307692307693\n"
     ]
    }
   ],
   "source": [
    "#ACTB site 1217\n",
    "\n",
    "WT=\"/home/wuyou/Projects/human_HEK293T_nanopore/data/results/ACTB_WT.predict\"\n",
    "KO=\"/home/wuyou/Projects/human_HEK293T_nanopore/data/results/ACTB_KO.predict\"\n",
    "\n",
    "WT_count=[0,0]\n",
    "with open(WT) as f:\n",
    "    for line in f:\n",
    "        site=line.split(\"\\t\")[1]\n",
    "        probabbility=float(line.split(\"\\t\")[5])\n",
    "        if site == \"1217\":\n",
    "            WT_count[1]+=1\n",
    "            if probabbility>0.95:\n",
    "                WT_count[0]+=1\n",
    "\n",
    "KO_count=[0,0]\n",
    "with open(KO) as f:\n",
    "    for line in f:\n",
    "        site=line.split(\"\\t\")[1]\n",
    "        probabbility=float(line.split(\"\\t\")[5])\n",
    "        if site == \"1217\":\n",
    "            KO_count[1]+=1\n",
    "            if probabbility>0.95:\n",
    "                KO_count[0]+=1\n",
    "\n",
    "print(\"WT mod ratio:\",WT_count[0]/WT_count[1])\n",
    "print(\"KO mod ratio:\",KO_count[0]/KO_count[1])"
   ]
  },
  {
   "cell_type": "code",
   "execution_count": 4,
   "id": "3e410f89-e21c-4df4-9518-48f121a660dd",
   "metadata": {},
   "outputs": [
    {
     "name": "stdout",
     "output_type": "stream",
     "text": [
      "WT mod ratio: 0.7307692307692307\n",
      "KO mod ratio: 0.15760869565217392\n"
     ]
    }
   ],
   "source": [
    "#BSG site 1340\n",
    "\n",
    "WT=\"/home/wuyou/Projects/human_HEK293T_nanopore/data/results/BSG_WT.predict\"\n",
    "KO=\"/home/wuyou/Projects/human_HEK293T_nanopore/data/results/BSG_KO.predict\"\n",
    "\n",
    "WT_count=[0,0]\n",
    "with open(WT) as f:\n",
    "    for line in f:\n",
    "        site=line.split(\"\\t\")[1]\n",
    "        probabbility=float(line.split(\"\\t\")[5])\n",
    "        if site == \"1340\":\n",
    "            WT_count[1]+=1\n",
    "            if probabbility>0.95:\n",
    "                WT_count[0]+=1\n",
    "\n",
    "KO_count=[0,0]\n",
    "with open(KO) as f:\n",
    "    for line in f:\n",
    "        site=line.split(\"\\t\")[1]\n",
    "        probabbility=float(line.split(\"\\t\")[5])\n",
    "        if site == \"1340\":\n",
    "            KO_count[1]+=1\n",
    "            if probabbility>0.95:\n",
    "                KO_count[0]+=1\n",
    "\n",
    "print(\"WT mod ratio:\",WT_count[0]/WT_count[1])\n",
    "print(\"KO mod ratio:\",KO_count[0]/KO_count[1])"
   ]
  },
  {
   "cell_type": "code",
   "execution_count": 6,
   "id": "142176ce-a734-4ba8-a2c6-afbd3849566a",
   "metadata": {},
   "outputs": [
    {
     "data": {
      "image/png": "[encoded data removed]",
      "text/plain": [
       "<Figure size 210x133 with 2 Axes>"
      ]
     },
     "metadata": {
      "image/png": {
       "height": 133,
       "width": 210
      }
     },
     "output_type": "display_data"
    },
    {
     "name": "stdout",
     "output_type": "stream",
     "text": [
      "\n"
     ]
    },
    {
     "name": "stderr",
     "output_type": "stream",
     "text": [
      "/home/wuyou/.conda/envs/sc/lib/python3.8/site-packages/plotnine/ggplot.py:587: PlotnineWarning: Saving 2.1 x 1.33 in image.\n",
      "/home/wuyou/.conda/envs/sc/lib/python3.8/site-packages/plotnine/ggplot.py:588: PlotnineWarning: Filename: figure/figure_5g_m6A_modification_ratio_in_ACTB_and_BSG.pdf\n",
      "findfont: Font family ['Arial'] not found. Falling back to Helvetica.\n",
      "findfont: Font family 'Arial' not found.\n",
      "findfont: Font family 'Arial' not found.\n",
      "findfont: Font family 'Arial' not found.\n",
      "findfont: Font family 'Arial' not found.\n",
      "findfont: Font family 'Arial' not found.\n",
      "findfont: Font family 'Arial' not found.\n",
      "findfont: Font family 'Arial' not found.\n",
      "findfont: Font family 'Arial' not found.\n",
      "findfont: Font family 'Arial' not found.\n",
      "findfont: Font family 'Arial' not found.\n",
      "findfont: Font family 'Arial' not found.\n"
     ]
    }
   ],
   "source": [
    "import matplotlib.pyplot as plt\n",
    "from plotnine import *\n",
    "import pandas as pd\n",
    "import numpy as np\n",
    "\n",
    "black = '#222222'\n",
    "gray = '#666666'\n",
    "red = '#FF3333'\n",
    "green = '#66CC00'\n",
    "blue = '#3333FF'\n",
    "purple = '#9933FF'\n",
    "orange = '#FF8000'\n",
    "yellow = '#FFFF33'\n",
    "c1=\"#F8766D\"\n",
    "c2=\"#00BA38\" \n",
    "c3=\"#619CFF\"\n",
    "\n",
    "import re\n",
    "\n",
    "sample=[\"WT\",\"METTL3-KO\",\"WT\",\"METTL3-KO\"]\n",
    "\n",
    "m6A_A_ratio=[0.508,0.077,0.731,0.158]\n",
    "\n",
    "site=[\"ACTB 1216A\",\"ACTB 1216A\",\"BSG 1339A\",\"BSG 1339A\"]\n",
    "\n",
    "color=[c2,c1,c2,c1]\n",
    "\n",
    "plt.rcParams[\"pdf.use14corefonts\"] = True\n",
    "\n",
    "data=pd.DataFrame({\"sample\":sample,\"m6A/A ratio\":m6A_A_ratio,\"site\":site,\"color\":color})\n",
    "#data=data.sort_values(by=['m6A/A ratio'],ascending=False)        #sort\n",
    "data['sample'] = pd.Categorical(data['sample'], categories=pd.unique(data['sample']))  #reorder legend\n",
    "\n",
    "p=(\n",
    "    ggplot()\n",
    "    +geom_bar(data,aes(x=\"sample\",y=\"m6A/A ratio\",width=0.75,fill=\"color\"),alpha=0.7,stat=\"identity\")   \n",
    "    \n",
    "    #+scale_x_continuous(breaks = [0,100,200,300],labels =[\"               5'UTR\", \"                CDS\", \"                3'UTR\",\"\"])\n",
    "    +theme(panel_background=element_rect(fill=gray, alpha=0),\n",
    "            strip_text_x = element_text(size = 6),            #facet font size\n",
    "            #legend_position = \"none\",\n",
    "            panel_grid_major=element_line(size=0.3, alpha=0.3,color=black),\n",
    "            panel_grid_minor=element_line(size=0.3, alpha=0.3,color=black),\n",
    "            panel_border=element_rect(color=black, size=1),\n",
    "            #axis_text_x=element_text(size=6,family=\"Monospace\",color=\"black\",angle=45),\n",
    "            axis_text_x=element_text(size=6,family=\"Arial\",color=\"black\",angle=0),\n",
    "            axis_text_y=element_text(size=6,family=\"Arial\",color=\"black\"),\n",
    "            axis_title_x=element_text(size=6,family=\"Arial\",color=\"black\"),\n",
    "            axis_title_y=element_text(size=6,family=\"Arial\",color=\"black\"),\n",
    "             \n",
    "            figure_size=[2.1,1.33],\n",
    "            legend_title = element_text(size=6,alpha=0), #change legend title font size\n",
    "            legend_text = element_text(size=6),\n",
    "            legend_background=element_rect(size=0.5,alpha=0),\n",
    "            legend_position=None,\n",
    "            #legend_position=(0.70,0.75), \n",
    "            legend_key_size=8) #change legend text font size)\n",
    "            \n",
    "    #+ geom_vline(xintercept=100,linetype=\"dashed\",alpha=0.5)\n",
    "    #+ geom_vline(xintercept=200,linetype=\"dashed\",alpha=0.5)\n",
    "    +ylim([0,1])\n",
    "    #+xlim([0,0.20])\n",
    "    +facet_wrap(\"site\")\n",
    "    +scale_fill_manual(values=[c1, c2, c3]) \n",
    "    \n",
    ")\n",
    "\n",
    "print(p)\n",
    "p.save('figure/figure_5g_m6A_modification_ratio_in_ACTB_and_BSG.pdf')"
   ]
  },
  {
   "cell_type": "code",
   "execution_count": null,
   "id": "a4043b43-2015-4d6f-bc67-98f18591128d",
   "metadata": {},
   "outputs": [],
   "source": []
  }
 ],
 "metadata": {
  "kernelspec": {
   "display_name": "Python 3 (ipykernel)",
   "language": "python",
   "name": "python3"
  },
  "language_info": {
   "codemirror_mode": {
    "name": "ipython",
    "version": 3
   },
   "file_extension": ".py",
   "mimetype": "text/x-python",
   "name": "python",
   "nbconvert_exporter": "python",
   "pygments_lexer": "ipython3",
   "version": "3.7.12"
  }
 },
 "nbformat": 4,
 "nbformat_minor": 5
}
