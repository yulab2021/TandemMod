{
 "cells": [
  {
   "cell_type": "markdown",
   "id": "65682094-b27f-4cf5-bffd-90725ea4375b",
   "metadata": {},
   "source": [
    "### Statistics of IVET datasets"
   ]
  },
  {
   "cell_type": "code",
   "execution_count": 1,
   "id": "81e686c1-bdd9-4cbb-acc2-4ae41ba46f9c",
   "metadata": {},
   "outputs": [
    {
     "name": "stdout",
     "output_type": "stream",
     "text": [
      "File: /home/wuyou/Projects/Os_AD/data/unmod.fastq\n",
      "Base Count: 238850254\n",
      "\n",
      "File: /home/wuyou/Projects/Os_AD/data/m1A.fastq\n",
      "Base Count: 229274902\n",
      "\n",
      "File: /home/wuyou/Projects/Os_AD/data/m5C.fastq\n",
      "Base Count: 302296192\n",
      "\n",
      "File: /home/wuyou/Projects/Os_AD/data/m6A.fastq\n",
      "Base Count: 174810133\n",
      "\n"
     ]
    }
   ],
   "source": [
    "#base count\n",
    "\n",
    "def count_base(file_path):\n",
    "    \"\"\"\n",
    "    Counts the number of bases in a FASTQ file.\n",
    "\n",
    "    Args:\n",
    "        file_path (str): Path to the FASTQ file.\n",
    "\n",
    "    Returns:\n",
    "        int: Total count of bases in the file.\n",
    "\n",
    "    \"\"\"\n",
    "    base_count = 0\n",
    "\n",
    "    with open(file_path) as f:\n",
    "        for i, line in enumerate(f):\n",
    "            line = line.rstrip()\n",
    "            if i % 4 == 1:\n",
    "                base_count += len(line)\n",
    "\n",
    "    return base_count\n",
    "\n",
    "\n",
    "# Count bases in different FASTQ files\n",
    "files = [\"/home/wuyou/Projects/Os_AD/data/unmod.fastq\", \n",
    "         \"/home/wuyou/Projects/Os_AD/data/m1A.fastq\", \n",
    "         \"/home/wuyou/Projects/Os_AD/data/m5C.fastq\", \n",
    "         \"/home/wuyou/Projects/Os_AD/data/m6A.fastq\"]\n",
    "\n",
    "for file in files:\n",
    "    count = count_base(file)\n",
    "    print(f\"File: {file}\\nBase Count: {count}\\n\")\n"
   ]
  },
  {
   "cell_type": "code",
   "execution_count": 3,
   "id": "884b814e-ec6a-489a-ad58-72713eb26d87",
   "metadata": {},
   "outputs": [
    {
     "name": "stdout",
     "output_type": "stream",
     "text": [
      "File: /home/wuyou/Projects/Os_AD/data/unmod.sorted.sam\n",
      "Unique Contigs: 3119\n",
      "Mapped Reads Count: 454741\n",
      "\n",
      "File: /home/wuyou/Projects/Os_AD/data/m1A.sorted.sam\n",
      "Unique Contigs: 5260\n",
      "Mapped Reads Count: 271761\n",
      "\n",
      "File: /home/wuyou/Projects/Os_AD/data/m6A.sorted.sam\n",
      "Unique Contigs: 4638\n",
      "Mapped Reads Count: 199127\n",
      "\n",
      "File: /home/wuyou/Projects/Os_AD/data/m5C.sorted.sam\n",
      "Unique Contigs: 5232\n",
      "Mapped Reads Count: 303881\n",
      "\n"
     ]
    }
   ],
   "source": [
    "#mapped reads count\n",
    "\n",
    "def count_mapped_reads(sam_file):\n",
    "    \"\"\"\n",
    "    Counts the number of mapped reads and builds a dictionary of contig counts from a SAM file.\n",
    "\n",
    "    Args:\n",
    "        sam_file (str): Path to the SAM file.\n",
    "\n",
    "    Returns:\n",
    "        tuple: A tuple containing the dictionary of contig counts and the total mapped reads count.\n",
    "\n",
    "    \"\"\"\n",
    "    count_dict = {}\n",
    "    mapped_reads_count = 0\n",
    "    gene_list = []\n",
    "\n",
    "    with open(sam_file) as f:\n",
    "        for line in f:\n",
    "            contig = line.split(\"\\t\")[2]\n",
    "            flag = line.split(\"\\t\")[1]\n",
    "\n",
    "            if flag != \"0\":\n",
    "                continue\n",
    "\n",
    "            mapped_reads_count += 1\n",
    "\n",
    "            if contig not in count_dict:\n",
    "                count_dict[contig] = 0\n",
    "\n",
    "            count_dict[contig] += 1\n",
    "\n",
    "            if contig not in gene_list:\n",
    "                gene_list.append(contig)\n",
    "                #print(contig)\n",
    "\n",
    "    return count_dict, mapped_reads_count\n",
    "\n",
    "\n",
    "# Process SAM files and count mapped reads\n",
    "sam_files = [\"/home/wuyou/Projects/Os_AD/data/unmod.sorted.sam\",\n",
    "             \"/home/wuyou/Projects/Os_AD/data/m1A.sorted.sam\", \n",
    "             \"/home/wuyou/Projects/Os_AD/data/m6A.sorted.sam\", \n",
    "             \"/home/wuyou/Projects/Os_AD/data/m5C.sorted.sam\"]\n",
    "\n",
    "for sam_file in sam_files:\n",
    "    count_dict, mapped_reads_count = count_mapped_reads(sam_file)\n",
    "\n",
    "    print(f\"File: {sam_file}\")\n",
    "    print(f\"Unique Contigs: {len(count_dict)}\")\n",
    "    print(f\"Mapped Reads Count: {mapped_reads_count}\\n\")\n"
   ]
  },
  {
   "cell_type": "code",
   "execution_count": 6,
   "id": "5521b806-ae42-4265-8d6a-a46bbca009c9",
   "metadata": {},
   "outputs": [
    {
     "name": "stdout",
     "output_type": "stream",
     "text": [
      "Total Contigs: 2473\n"
     ]
    }
   ],
   "source": [
    "import numpy as np\n",
    "\n",
    "\n",
    "count_dict_overlap = {}\n",
    "\n",
    "\n",
    "count_dict_unmod, _ = count_mapped_reads(\"/home/wuyou/Projects/Os_AD/data/unmod.sorted.sam\")\n",
    "count_dict_m1A, _ = count_mapped_reads(\"/home/wuyou/Projects/Os_AD/data/m1A.sorted.sam\")\n",
    "count_dict_m6A, _ = count_mapped_reads(\"/home/wuyou/Projects/Os_AD/data/m6A.sorted.sam\")\n",
    "count_dict_m5C, _ = count_mapped_reads(\"/home/wuyou/Projects/Os_AD/data/m5C.sorted.sam\")\n",
    "\n",
    "count_dicts = [count_dict_unmod, count_dict_m1A, count_dict_m6A, count_dict_m5C]\n",
    "labels = [\"unmod\", \"m1A\", \"m6A\", \"m5C\"]\n",
    "\n",
    "for contig_counts, label in zip(count_dicts, labels):\n",
    "    for contig, count in contig_counts.items():\n",
    "        if contig not in count_dict_overlap:\n",
    "            count_dict_overlap[contig] = [0] * len(count_dicts)\n",
    "        count_dict_overlap[contig][labels.index(label)] = count\n",
    "\n",
    "# Filter out contigs with insufficient counts\n",
    "count_dict_overlap = {contig: counts for contig, counts in count_dict_overlap.items() if all(counts)}\n",
    "\n",
    "\n",
    "print(\"Total Contigs:\", len(count_dict_overlap))\n"
   ]
  },
  {
   "cell_type": "markdown",
   "id": "7d730035-eb2a-47c1-97f6-1ebd397d5516",
   "metadata": {},
   "source": [
    "### Statistics of read length"
   ]
  },
  {
   "cell_type": "code",
   "execution_count": 10,
   "id": "74fdb85b-c32a-47db-a3ae-4ed091c3bb4f",
   "metadata": {},
   "outputs": [
    {
     "name": "stdout",
     "output_type": "stream",
     "text": [
      "                            id modification        value\n",
      "0     LOC_Os01g01170.1.MSUv7.0        unmod   461.801333\n",
      "1     LOC_Os01g01650.1.MSUv7.0        unmod   103.355536\n",
      "2     LOC_Os01g01660.1.MSUv7.0        unmod   158.331886\n",
      "3     LOC_Os01g02150.1.MSUv7.0        unmod    21.990540\n",
      "4     LOC_Os01g02910.1.MSUv7.0        unmod    32.985810\n",
      "...                        ...          ...          ...\n",
      "9887  LOC_Os09g38020.1.MSUv7.0          m5C  1125.440551\n",
      "9888  LOC_Os09g38070.1.MSUv7.0          m5C   296.168566\n",
      "9889  LOC_Os09g38090.1.MSUv7.0          m5C   223.771805\n",
      "9890  LOC_Os09g38370.1.MSUv7.0          m5C   187.573425\n",
      "9891  LOC_Os09g38970.1.MSUv7.0          m5C    69.105999\n",
      "\n",
      "[9892 rows x 3 columns]\n"
     ]
    },
    {
     "name": "stderr",
     "output_type": "stream",
     "text": [
      "/home/wuyou/.conda/envs/sc/lib/python3.8/site-packages/plotnine/layer.py:284: PlotnineWarning: stat_density : Removed 2579 rows containing non-finite values.\n"
     ]
    },
    {
     "data": {
      "image/png": "[encoded data removed]",
      "text/plain": [
       "<Figure size 304x122 with 1 Axes>"
      ]
     },
     "metadata": {
      "image/png": {
       "height": 122,
       "width": 304
      }
     },
     "output_type": "display_data"
    },
    {
     "name": "stdout",
     "output_type": "stream",
     "text": [
      "\n"
     ]
    },
    {
     "name": "stderr",
     "output_type": "stream",
     "text": [
      "/home/wuyou/.conda/envs/sc/lib/python3.8/site-packages/plotnine/ggplot.py:587: PlotnineWarning: Saving 3.04 x 1.22 in image.\n",
      "/home/wuyou/.conda/envs/sc/lib/python3.8/site-packages/plotnine/ggplot.py:588: PlotnineWarning: Filename: figure/supplemental_figure_4a_sequencing_depth.pdf\n",
      "/home/wuyou/.conda/envs/sc/lib/python3.8/site-packages/plotnine/layer.py:284: PlotnineWarning: stat_density : Removed 2579 rows containing non-finite values.\n"
     ]
    }
   ],
   "source": [
    "# sequence depth\n",
    "\n",
    "import pandas as pd\n",
    "from plotnine import *\n",
    "\n",
    "black = '#222222'\n",
    "gray = '#666666'\n",
    "red = '#FF3333'\n",
    "green = '#66CC00'\n",
    "blue = '#3333FF'\n",
    "purple = '#9933FF'\n",
    "orange = '#FF8000'\n",
    "yellow = '#FFFF33'\n",
    "\n",
    "\n",
    "\n",
    "data=pd.DataFrame.from_dict(count_dict_overlap,orient=\"index\")\n",
    "data.rename(columns = {0:'unmod', 1:'m1A',2:\"m6A\",3:\"m5C\"}, inplace = True)\n",
    "data[\"id\"]=data.index\n",
    "\n",
    "data=pd.melt(data,id_vars=\"id\")\n",
    "data=data.rename(columns={\"variable\":\"modification\"})\n",
    "print(data)\n",
    "p1=(ggplot()\n",
    "    +geom_density(data,aes(x=\"value\",color='modification', fill='modification'),alpha=0.1)\n",
    "    +theme(figure_size=[3.04,1.22],\n",
    "        axis_text=element_text(size=6,family=\"Arial\",color=\"black\"),\n",
    "        axis_title_x=element_text(size=6,family=\"Arial\",color=\"black\"),\n",
    "        axis_title_y=element_text(size=6,family=\"Arial\",color=\"black\"),\n",
    "        panel_background=element_rect(fill=gray, alpha=0),\n",
    "        panel_grid_major=element_line(size=0.3, alpha=0.3,color=black),\n",
    "        panel_grid_minor=element_line(size=0.3, alpha=0.3,color=black),\n",
    "        panel_border=element_rect(color=black, size=1),\n",
    "        legend_title = element_text(size=6,alpha=0), #change legend title font size\n",
    "        legend_text = element_text(size=6),\n",
    "        legend_background=element_rect(size=0.5,alpha=0),\n",
    "        legend_position=(0.81,0.65), \n",
    "        legend_key_size=4) #change legend text font size)))\n",
    "\n",
    "    +xlim(0,300)\n",
    "    +labs(x = \"Depth\",y=\"Density\")\n",
    "    #+guides(color = guide_legend(title = \"modification\"))\n",
    "   )\n",
    "\n",
    "print(p1)\n",
    "p1.save('figure/supplemental_figure_4a_sequencing_depth.pdf')"
   ]
  },
  {
   "cell_type": "markdown",
   "id": "fd8e520d-bb53-4118-824c-2225cd111571",
   "metadata": {},
   "source": [
    "### Statistics of read quality"
   ]
  },
  {
   "cell_type": "code",
   "execution_count": 11,
   "id": "abbcc431-de99-4006-883c-f247a9460554",
   "metadata": {},
   "outputs": [
    {
     "name": "stdout",
     "output_type": "stream",
     "text": [
      "plotting\n"
     ]
    },
    {
     "data": {
      "image/png": "[encoded data removed]",
      "text/plain": [
       "<Figure size 304x122 with 1 Axes>"
      ]
     },
     "metadata": {
      "image/png": {
       "height": 122,
       "width": 304
      }
     },
     "output_type": "display_data"
    },
    {
     "name": "stdout",
     "output_type": "stream",
     "text": [
      "\n"
     ]
    },
    {
     "name": "stderr",
     "output_type": "stream",
     "text": [
      "/home/wuyou/.conda/envs/sc/lib/python3.8/site-packages/plotnine/ggplot.py:587: PlotnineWarning: Saving 3.04 x 1.22 in image.\n",
      "/home/wuyou/.conda/envs/sc/lib/python3.8/site-packages/plotnine/ggplot.py:588: PlotnineWarning: Filename: figure/supplemental_figure_4b_read_quality_distribution.pdf\n"
     ]
    }
   ],
   "source": [
    "#read quality plot\n",
    "\n",
    "import traceback\n",
    "from plotnine import *\n",
    "import pandas as pd\n",
    "import numpy as np\n",
    "\n",
    "\n",
    "black = '#222222'\n",
    "gray = '#666666'\n",
    "red = '#FF3333'\n",
    "green = '#66CC00'\n",
    "blue = '#3333FF'\n",
    "purple = '#9933FF'\n",
    "orange = '#FF8000'\n",
    "yellow = '#FFFF33'\n",
    "\n",
    "\n",
    "def get_mean_quality(file):\n",
    "    \"\"\"\n",
    "    Calculate the mean quality for each set of base qualities in a given file.\n",
    "    \n",
    "    Args:\n",
    "        file (str): The path to the input file.\n",
    "        \n",
    "    Returns:\n",
    "        list: A list of mean quality values.\n",
    "    \"\"\"\n",
    "    count=0\n",
    "    mean_quality_list=[]\n",
    "    next=\"\"\n",
    "    with open(file) as f:\n",
    "        for line in f:\n",
    "            line=line.rstrip()\n",
    "            if \"runid\" in line:\n",
    "                next=\"sequence\"\n",
    "                continue\n",
    "            if  line==\"+\":\n",
    "                next=\"quality\"\n",
    "                continue\n",
    "            if next==\"quality\":\n",
    "                base_quality_string=line\n",
    "                base_quality_list=[ord(char) for char in base_quality_string]\n",
    "                mean_quality=np.mean(base_quality_list)-33\n",
    "                mean_quality_list.append(mean_quality)\n",
    "                count+=1\n",
    "            if count>10000:\n",
    "                break\n",
    "    return mean_quality_list\n",
    "\n",
    "\n",
    "X=[]\n",
    "Y=[]\n",
    "\n",
    "file=\"/home/wuyou/Projects/Os_AD/data/unmod.fastq\"\n",
    "mean_quality_list=get_mean_quality(file)\n",
    "X.extend(mean_quality_list)\n",
    "Y.extend([\"unmod\"]*len(mean_quality_list))\n",
    "\n",
    "file=\"/home/wuyou/Projects/Os_AD/data/m1A.fastq\"\n",
    "mean_quality_list=get_mean_quality(file)\n",
    "X.extend(mean_quality_list)\n",
    "Y.extend([\"m1A\"]*len(mean_quality_list))\n",
    "\n",
    "file=\"/home/wuyou/Projects/Os_AD/data/m5C.fastq\"\n",
    "mean_quality_list=get_mean_quality(file)\n",
    "X.extend(mean_quality_list)\n",
    "Y.extend([\"m5C\"]*len(mean_quality_list))\n",
    "\n",
    "file=\"/home/wuyou/Projects/Os_AD/data/m6A.fastq\"\n",
    "mean_quality_list=get_mean_quality(file)\n",
    "X.extend(mean_quality_list)\n",
    "Y.extend([\"m6A\"]*len(mean_quality_list))\n",
    "\n",
    "data=pd.DataFrame(X)\n",
    "#data[\"label\"]=Y\n",
    "data.columns=[\"base quality\"]\n",
    "data[\"modification\"]=Y\n",
    "\n",
    "#####################################################################################################################\n",
    "print(\"plotting\")\n",
    "p1=(ggplot()\n",
    "    +geom_density(data,aes(x=\"base quality\",color='modification', fill='modification'),alpha=0.1)\n",
    "    +theme(figure_size=[3.04,1.22],\n",
    "        axis_text=element_text(size=6,family=\"Arial\",color=\"black\"),\n",
    "        axis_title_x=element_text(size=6,family=\"Arial\",color=\"black\"),\n",
    "        axis_title_y=element_text(size=6,family=\"Arial\",color=\"black\"),\n",
    "        panel_background=element_rect(fill=gray, alpha=0),\n",
    "        panel_grid_major=element_line(size=0.3, alpha=0.3,color=black),\n",
    "        panel_grid_minor=element_line(size=0.3, alpha=0.3,color=black),\n",
    "        panel_border=element_rect(color=black, size=1),\n",
    "        legend_title = element_text(size=6,alpha=0), #change legend title font size\n",
    "        legend_text = element_text(size=6),\n",
    "        legend_background=element_rect(size=0.5,alpha=0),\n",
    "        legend_position=(0.81,0.65), \n",
    "        legend_key_size=4) #change legend text font size)))\n",
    "    +labs(x = \"Base quality\",y=\"Density\")\n",
    "   )\n",
    "\n",
    "print(p1)\n",
    "\"\"\"\n",
    "p2=(ggplot()+geom_line(data_mod,aes(x=\"x\",y=\"value\",group=\"variable\"),alpha=0.05,color=\"red\")\n",
    "    +geom_line(data_unmod,aes(x=\"x\",y=\"value\",group=\"variable\"),alpha=0.05,color=\"black\")\n",
    "    +theme(panel_background=element_rect(fill=gray, alpha=0),\n",
    "            panel_grid_major=element_line(size=0.3, alpha=0.3,color=black),\n",
    "            panel_grid_minor=element_line(size=0.3, alpha=0.3,color=black),\n",
    "            panel_border=element_rect(color=black, size=1),\n",
    "            legend_position = \"none\",\n",
    "          figure_size=[6,2.5])+labs(y = \"normalized signal\")   \n",
    ")\n",
    "p2\n",
    "\"\"\"\n",
    "p1.save('figure/supplemental_figure_4b_read_quality_distribution.pdf')\n",
    "\n",
    "\n",
    "#ggpurb\n",
    "\n"
   ]
  },
  {
   "cell_type": "code",
   "execution_count": 9,
   "id": "26fca5b4-2fc6-4b82-94ff-377392dfa8ee",
   "metadata": {},
   "outputs": [],
   "source": [
    "#reads count to FPKM\n",
    "mapped_reads=[454741,271761,199127,303881]\n",
    "\n",
    "for contig in count_dict_overlap:\n",
    "    read_count=count_dict_overlap[contig]\n",
    "    for i in range(4):\n",
    "        read_count[i]=read_count[i]/mapped_reads[i]*1e6\n",
    "    count_dict_overlap[contig]=read_count\n",
    "data=pd.DataFrame.from_dict(count_dict_overlap,orient=\"index\") \n",
    "data.to_csv(\"data/count_dict_overlap.rpm.csv\",sep=\"\\t\")"
   ]
  },
  {
   "cell_type": "markdown",
   "id": "ac051d54-5a49-4074-bd36-6fec38ac2013",
   "metadata": {},
   "source": [
    "### Heatmap of transcripts abundance"
   ]
  },
  {
   "cell_type": "code",
   "execution_count": null,
   "id": "3c3bbb94-dc3a-4d09-873e-de8366338574",
   "metadata": {},
   "outputs": [],
   "source": [
    "#R code\n",
    "\n",
    "library(pheatmap)\n",
    "library(data.table)\n",
    "\n",
    "rpm=read.table(\"data/count_dict_overlap.rpm.csv\",header=TRUE,sep = \"\\t\") \n",
    "rownames(rpm)<-rpm[,1] \n",
    "rpm=rpm[,-1]\n",
    "\n",
    "data=log2(rpm+1)\n",
    "data=scale((data))\n",
    "data[data > 2]=2 \n",
    "data[data < -2]= -2\n",
    "#data=t(data)\n",
    "pdf(\"figure/supplemental_figure_4c_heatmap.pdf\", width=1.22,height=1.22)\n",
    "pheatmap(mat=data,cluster_rows =T, cluster_cols = F, cluster_columns = F,treeheight_row=0,show_colnames= FALSE,  show_rownames= FALSE,drop_levels= TRUE, fontsize= 6 )#,color = colorRampPalette(c(\"blue\", \"white\", \"orange\"))(100))\n",
    "dev.off()"
   ]
  },
  {
   "cell_type": "markdown",
   "id": "18a95dbc-3731-4c94-a5a7-8a9c1e396bc7",
   "metadata": {},
   "source": [
    "### Sequence coverage"
   ]
  },
  {
   "cell_type": "code",
   "execution_count": 12,
   "id": "08a6d8ad-7eba-403d-bd60-1562f22f8c7a",
   "metadata": {},
   "outputs": [
    {
     "name": "stdout",
     "output_type": "stream",
     "text": [
      "3118\n",
      "105681\n",
      "154028\n",
      "182612\n",
      "201683\n",
      "213976\n",
      "222908\n",
      "229777\n"
     ]
    }
   ],
   "source": [
    "gene_list=[]\n",
    "with open(\"/home/wuyou/Projects/Os_AD/data/unmod.signal.tsv\") as f:\n",
    "    for line in f:\n",
    "        contig=line.split(\"\\t\")[1]\n",
    "        if contig not in gene_list:\n",
    "            gene_list.append(contig)\n",
    "\n",
    "print(len(gene_list))\n",
    "\n",
    "for gene_number in [200,400,600,800,1000,1200,1400]:\n",
    "    gene_list_subset=gene_list[0:gene_number]\n",
    "    \n",
    "\n",
    "    with open(\"/home/wuyou/Projects/Os_AD/data/unmod.signal.tsv\") as f:       \n",
    "        curlcake_9mer={}\n",
    "        for line in f:\n",
    "            contig=line.split(\"\\t\")[1]\n",
    "            if contig not in gene_list_subset:\n",
    "                continue\n",
    "            seq=line.split(\"\\t\")[3]\n",
    "            line=seq\n",
    "            for i in range(4,len(line)-4):\n",
    "                if curlcake_9mer.get(line[i-4:i+5],0)==0:\n",
    "                    curlcake_9mer[line[i-4:i+5]]=1\n",
    "        print(len(curlcake_9mer))"
   ]
  },
  {
   "cell_type": "code",
   "execution_count": 15,
   "id": "b3507fba-0cf4-4322-a4ac-c53254b1bce9",
   "metadata": {},
   "outputs": [
    {
     "name": "stdout",
     "output_type": "stream",
     "text": [
      "    kmer  Diversity label\n",
      "0    200   0.403141     2\n",
      "1    400   0.587570     2\n",
      "2    600   0.696609     2\n",
      "3    800   0.769360     2\n",
      "4   1000   0.816254     2\n",
      "5   1200   0.850327     2\n",
      "6   1400   0.876530     2\n",
      "7    200   0.596859     1\n",
      "8    400   0.412430     1\n",
      "9    600   0.303391     1\n",
      "10   800   0.230640     1\n",
      "11  1000   0.183746     1\n",
      "12  1200   0.149673     1\n",
      "13  1400   0.123470     1\n"
     ]
    },
    {
     "data": {
      "image/png": "[encoded data removed]",
      "text/plain": [
       "<Figure size 252x133 with 1 Axes>"
      ]
     },
     "metadata": {
      "image/png": {
       "height": 133,
       "width": 252
      }
     },
     "output_type": "display_data"
    },
    {
     "name": "stdout",
     "output_type": "stream",
     "text": [
      "\n"
     ]
    },
    {
     "name": "stderr",
     "output_type": "stream",
     "text": [
      "/home/wuyou/.conda/envs/sc/lib/python3.8/site-packages/plotnine/ggplot.py:587: PlotnineWarning: Saving 2.52 x 1.33 in image.\n",
      "/home/wuyou/.conda/envs/sc/lib/python3.8/site-packages/plotnine/ggplot.py:588: PlotnineWarning: Filename: figure/supplemental_figure_4d_sequence_diversity.pdf\n"
     ]
    }
   ],
   "source": [
    "#\n",
    "\n",
    "import pandas as pd\n",
    "from plotnine import *\n",
    "import numpy as np\n",
    "\n",
    "black = '#222222'\n",
    "gray = '#666666'\n",
    "red = '#FF3333'\n",
    "green = '#66CC00'\n",
    "blue = '#3333FF'\n",
    "purple = '#9933FF'\n",
    "orange = '#FF8000'\n",
    "yellow = '#FFFF33'\n",
    "c1=\"#F8766D\"\n",
    "c2=\"#00BA38\" \n",
    "c3=\"#619CFF\"\n",
    "\n",
    "\n",
    "X=[\"200\",\"400\",\"600\",\"800\",\"1000\",\"1200\",\"1400\",\"200\",\"400\",\"600\",\"800\",\"1000\",\"1200\",\"1400\"]\n",
    "Y=[105681/4**9,154028/4**9,182612/4**9,201683/4**9,213976/4**9,222908/4**9,229777/4**9]\n",
    "Y.extend([1-105681/4**9,1-154028/4**9,1-182612/4**9,1-201683/4**9,1-213976/4**9,1-222908/4**9,1-229777/4**9])\n",
    "label=[\"2\",\"2\",\"2\",\"2\",\"2\",\"2\",\"2\",\"1\",\"1\",\"1\",\"1\",\"1\",\"1\",\"1\"]\n",
    "\n",
    "\n",
    "#Y=np.log2(Y_curcake)\n",
    "data=pd.DataFrame(dict(kmer=X,Diversity=Y,label=label)) \n",
    "data['kmer'] = pd.Categorical(data.kmer, categories=pd.unique(data.kmer))  #reorder legend\n",
    "print(data)\n",
    "p1 = (ggplot()\n",
    "        +geom_bar(data,aes(x=\"kmer\",y = \"Diversity\",fill=\"label\"),stat=\"identity\",position=\"stack\",width=0.6)\n",
    "        +scale_fill_manual(values=[gray,c1])\n",
    "        +theme(panel_background=element_rect(fill=gray, alpha=0),\n",
    "            panel_grid_major=element_line(size=0.3, alpha=0.3,color=black),\n",
    "            panel_grid_minor=element_line(size=0.3, alpha=0.3,color=black),\n",
    "            panel_border=element_rect(color=black, size=1),\n",
    "            axis_text=element_text(size=6,family=\"Arial\",color=\"black\"),\n",
    "            axis_title_x=element_text(size=6,family=\"Arial\",color=\"black\"),\n",
    "            axis_title_y=element_text(size=6,family=\"Arial\",color=\"black\"),\n",
    "            #axis_text_x=element_text(rotation=45, hjust=0.5),\n",
    "            figure_size=[2.52,1.33],\n",
    "            legend_title = element_text(size=6), #change legend title font size\n",
    "            legend_text = element_text(size=6),\n",
    "            legend_background=element_rect(size=0.5,alpha=0),\n",
    "            #legend_position=(0.60,0.4),\n",
    "               \n",
    "            plot_title=element_text(margin={'b': 1, 'r': 0, 'units': 'pt'},size=6,family=\"Arial\",color=\"black\"),\n",
    "            \n",
    "            legend_position=None,\n",
    "            legend_key_size=4) #change legend text font size\n",
    "        +labs(x = \"Gene number\", y =\"Sequence coverage\")\n",
    "        +guides(color = guide_legend(title = \"Probability cutoff\"))\n",
    "        + ggtitle(\"IVET\")\n",
    "    )\n",
    "print(p1)\n",
    "p1.save('figure/supplemental_figure_4d_sequence_diversity.pdf')"
   ]
  },
  {
   "cell_type": "code",
   "execution_count": null,
   "id": "70ecc8b1-51be-4c23-818c-7b830dc6ed27",
   "metadata": {},
   "outputs": [],
   "source": []
  }
 ],
 "metadata": {
  "kernelspec": {
   "display_name": "Python 3 (ipykernel)",
   "language": "python",
   "name": "python3"
  },
  "language_info": {
   "codemirror_mode": {
    "name": "ipython",
    "version": 3
   },
   "file_extension": ".py",
   "mimetype": "text/x-python",
   "name": "python",
   "nbconvert_exporter": "python",
   "pygments_lexer": "ipython3",
   "version": "3.8.13"
  }
 },
 "nbformat": 4,
 "nbformat_minor": 5
}
