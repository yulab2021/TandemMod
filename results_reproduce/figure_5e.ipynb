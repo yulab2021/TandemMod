{
 "cells": [
  {
   "cell_type": "markdown",
   "id": "76676039-4c5e-4091-afa2-5e90a9113242",
   "metadata": {},
   "source": [
    "### Modification rate of NSUN2-KO and WT HeLa samples at site level"
   ]
  },
  {
   "cell_type": "code",
   "execution_count": 1,
   "id": "02fcc45d-eb3a-40d2-aee0-5ff8949affb1",
   "metadata": {},
   "outputs": [
    {
     "name": "stdout",
     "output_type": "stream",
     "text": [
      "163501 163501\n"
     ]
    },
    {
     "name": "stderr",
     "output_type": "stream",
     "text": [
      "/home/wuyou/.conda/envs/sc/lib/python3.8/site-packages/plotnine/layer.py:284: PlotnineWarning: stat_boxplot : Removed 12197 rows containing non-finite values.\n"
     ]
    },
    {
     "data": {
      "image/png": "[encoded data removed]",
      "text/plain": [
       "<Figure size 152x133 with 1 Axes>"
      ]
     },
     "metadata": {
      "image/png": {
       "height": 133,
       "width": 152
      }
     },
     "output_type": "display_data"
    },
    {
     "name": "stdout",
     "output_type": "stream",
     "text": [
      "\n"
     ]
    },
    {
     "name": "stderr",
     "output_type": "stream",
     "text": [
      "/home/wuyou/.conda/envs/sc/lib/python3.8/site-packages/plotnine/ggplot.py:587: PlotnineWarning: Saving 1.52 x 1.33 in image.\n",
      "/home/wuyou/.conda/envs/sc/lib/python3.8/site-packages/plotnine/ggplot.py:588: PlotnineWarning: Filename: figure/figure_5e_modification_rate_WT_vs_NUSN2_KO_at_site_level.pdf\n",
      "/home/wuyou/.conda/envs/sc/lib/python3.8/site-packages/plotnine/layer.py:284: PlotnineWarning: stat_boxplot : Removed 12197 rows containing non-finite values.\n"
     ]
    }
   ],
   "source": [
    "WT=\"/home/wuyou/Projects/paper/CHEUI/predict/median_mad/WT_C.predict.txt\"\n",
    "KO=\"/home/wuyou/Projects/paper/CHEUI/predict/median_mad/KO_C.predict.txt\"\n",
    "\n",
    "probalibility_cutoff=0.95\n",
    "\n",
    "WT_count_dict={}\n",
    "with open(WT) as f:\n",
    "    for line in f:\n",
    "        site=\"|\".join(line.split(\"\\t\")[0:2])\n",
    "        mod_probability=float(line.split(\"\\t\")[5])\n",
    "        if site not in WT_count_dict:\n",
    "            WT_count_dict[site]=[0,0]\n",
    "        if mod_probability>probalibility_cutoff:\n",
    "            WT_count_dict[site][0]+=1\n",
    "        WT_count_dict[site][1]+=1\n",
    "\n",
    "            \n",
    "KO_count_dict={}\n",
    "with open(KO) as f:\n",
    "    for line in f:\n",
    "        site=\"|\".join(line.split(\"\\t\")[0:2])\n",
    "        mod_probability=float(line.split(\"\\t\")[5])\n",
    "        if site not in KO_count_dict:\n",
    "            KO_count_dict[site]=[0,0]\n",
    "        if mod_probability>probalibility_cutoff:\n",
    "            KO_count_dict[site][0]+=1\n",
    "        KO_count_dict[site][1]+=1         \n",
    "\n",
    "\n",
    "import matplotlib.pyplot as plt\n",
    "from plotnine import *\n",
    "import pandas as pd\n",
    "import numpy as np\n",
    "\n",
    "mod_rate=[]\n",
    "sample=[]\n",
    "\n",
    "\"\"\"\n",
    "WT_gene_mod_dict={}\n",
    "KO_gene_mod_dict={}\n",
    "\n",
    "for site in WT_count_dict:\n",
    "    gene=site.split(\"|\")[0]\n",
    "      \n",
    "    if WT_count_dict[site][1]<20:\n",
    "        continue   \n",
    "    if gene not in WT_gene_mod_dict:\n",
    "        WT_gene_mod_dict[gene]=[0,0]\n",
    "        \n",
    "    if WT_count_dict[site][0]/WT_count_dict[site][1] > 0.35:\n",
    "        WT_gene_mod_dict[gene][0]+=1\n",
    "    WT_gene_mod_dict[gene][1]+=1\n",
    "    \n",
    "\n",
    "for site in KO_count_dict:\n",
    "    gene=site.split(\"|\")[0]\n",
    "    if KO_count_dict[site][1]<20:\n",
    "        continue\n",
    "    if gene not in KO_gene_mod_dict:\n",
    "        KO_gene_mod_dict[gene]=[0,0]\n",
    "        \n",
    "    if KO_count_dict[site][0]/KO_count_dict[site][1] > 0.35:\n",
    "        KO_gene_mod_dict[gene][0]+=1\n",
    "    KO_gene_mod_dict[gene][1]+=1\n",
    "    \n",
    "for gene in WT_gene_mod_dict:\n",
    "    mod_rate.append(WT_gene_mod_dict[gene][0]/WT_gene_mod_dict[gene][1])\n",
    "    sample.append(\"WT\")\n",
    "\n",
    "for gene in KO_gene_mod_dict:\n",
    "    mod_rate.append(KO_gene_mod_dict[gene][0]/KO_gene_mod_dict[gene][1])\n",
    "    sample.append(\"KO\")\n",
    "\"\"\"\n",
    "\n",
    "for site in WT_count_dict:\n",
    "    if WT_count_dict[site][0]/WT_count_dict[site][1]>0 and WT_count_dict[site][1]>30:\n",
    "        mod_rate.append(WT_count_dict[site][0]/WT_count_dict[site][1])\n",
    "        sample.append(\"WT\")\n",
    "\n",
    "for site in KO_count_dict:\n",
    "    if KO_count_dict[site][0]/KO_count_dict[site][1]>0 and KO_count_dict[site][1]>30:\n",
    "        mod_rate.append(KO_count_dict[site][0]/KO_count_dict[site][1])\n",
    "        sample.append(\"NSUN2 KO\")\n",
    "\n",
    "\n",
    "\n",
    "black = '#222222'\n",
    "gray = '#666666'\n",
    "red = '#FF3333'\n",
    "green = '#66CC00'\n",
    "blue = '#3333FF'\n",
    "purple = '#9933FF'\n",
    "orange = '#FF8000'\n",
    "yellow = '#FFFF33'\n",
    "c1=\"#F8766D\"\n",
    "c2=\"#00BA38\" \n",
    "c3=\"#619CFF\"\n",
    "\n",
    "print(len(mod_rate),len(sample))\n",
    "\n",
    "data=pd.DataFrame({\"modification rate\":mod_rate,\"sample\":sample})\n",
    "data['sample'] = pd.Categorical(data['sample'], categories=pd.unique(data['sample']))  #reorder legend\n",
    "\n",
    "p=(\n",
    "    ggplot()\n",
    "    +geom_boxplot(data,aes(y=\"modification rate\",x=\"sample\",fill=\"sample\"),alpha=0.7,outlier_shape = \"\")\n",
    "     #+scale_x_continuous(breaks = [0,100,200,300],labels =[\"               5'UTR\", \"                CDS\", \"                3'UTR\",\"\"])\n",
    "    +theme(panel_background=element_rect(fill=gray, alpha=0),\n",
    "            strip_text_x = element_text(size = 6),            #facet font size\n",
    "            legend_position = \"none\",\n",
    "            panel_grid_major=element_line(size=0.3, alpha=0.3,color=black),\n",
    "            panel_grid_minor=element_line(size=0.3, alpha=0.3,color=black),\n",
    "            panel_border=element_rect(color=black, size=1),\n",
    "            axis_text=element_text(size=6,family=\"Arial\",color=\"black\"),\n",
    "            axis_title_x=element_text(size=6,family=\"Arial\",color=\"black\"),\n",
    "            axis_title_y=element_text(size=6,family=\"Arial\",color=\"black\"),\n",
    "             \n",
    "           \n",
    "            figure_size=[1.52,1.33],\n",
    "            legend_title = element_text(size=6), #change legend title font size\n",
    "            legend_text = element_text(size=6),\n",
    "            legend_background=element_rect(size=0.5,alpha=0),\n",
    "            #legend_position=(0.45,0.4), \n",
    "            legend_key_size=12) #change legend text font size)\n",
    "    #+ geom_vline(xintercept=100,linetype=\"dashed\",alpha=0.5)\n",
    "    #+ geom_vline(xintercept=200,linetype=\"dashed\",alpha=0.5)\n",
    "    +ylim([0,0.3])\n",
    "    +scale_fill_manual(values=[c1, c2, c3]) \n",
    "    +labs(x=\"\",y=\"Site level\\nmodification rate\")\n",
    ")\n",
    "\n",
    "print(p)\n",
    "p.save('figure/figure_5e_modification_rate_WT_vs_NUSN2_KO_at_site_level.pdf')"
   ]
  },
  {
   "cell_type": "code",
   "execution_count": null,
   "id": "01c9f8d1-44e1-459d-87e2-c279071b0cc5",
   "metadata": {},
   "outputs": [],
   "source": []
  }
 ],
 "metadata": {
  "kernelspec": {
   "display_name": "Python 3 (ipykernel)",
   "language": "python",
   "name": "python3"
  },
  "language_info": {
   "codemirror_mode": {
    "name": "ipython",
    "version": 3
   },
   "file_extension": ".py",
   "mimetype": "text/x-python",
   "name": "python",
   "nbconvert_exporter": "python",
   "pygments_lexer": "ipython3",
   "version": "3.7.12"
  }
 },
 "nbformat": 4,
 "nbformat_minor": 5
}
