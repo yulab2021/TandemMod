{
 "cells": [
  {
   "cell_type": "markdown",
   "id": "7183c1bb-6df9-4342-a167-4635da1931f4",
   "metadata": {},
   "source": [
    "### Motif discovery"
   ]
  },
  {
   "cell_type": "code",
   "execution_count": null,
   "id": "db1e9821-f01b-4da5-8e97-b831ce1c8924",
   "metadata": {},
   "outputs": [],
   "source": []
  }
 ],
 "metadata": {
  "kernelspec": {
   "display_name": "Python 3 (ipykernel)",
   "language": "python",
   "name": "python3"
  },
  "language_info": {
   "codemirror_mode": {
    "name": "ipython",
    "version": 3
   },
   "file_extension": ".py",
   "mimetype": "text/x-python",
   "name": "python",
   "nbconvert_exporter": "python",
   "pygments_lexer": "ipython3",
   "version": "3.8.13"
  }
 },
 "nbformat": 4,
 "nbformat_minor": 5
}
