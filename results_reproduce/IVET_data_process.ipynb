{
 "cells": [
  {
   "cell_type": "markdown",
   "id": "1bcbcf38-7017-4ed3-90a9-ae937a95762a",
   "metadata": {},
   "source": [
    "### IVET datasets"
   ]
  },
  {
   "cell_type": "markdown",
   "id": "55b8db7d-7ef6-43a1-b6c7-96d52bcb4285",
   "metadata": {},
   "source": [
    "IVET datasets, encompassing m5C, m1A, m6A, and unmodified samples, are accessible at https://www.ncbi.nlm.nih.gov/geo/query/acc.cgi?acc=GSE227087. The reference transcripts sequence are available at [our repository](https://github.com/yulab2021/TandemMod/tree/master/data/)."
   ]
  },
  {
   "cell_type": "markdown",
   "id": "54c6cfd5-d517-482c-8ee2-38032cb4e1bb",
   "metadata": {},
   "source": [
    "#### IVET unmodified"
   ]
  },
  {
   "cell_type": "code",
   "execution_count": null,
   "id": "4d6c7380-6859-4355-83a5-72aab9d4e117",
   "metadata": {},
   "outputs": [],
   "source": [
    "#IVET unmodified\n",
    "\n",
    "#basecalling\n",
    "guppy_basecaller -i IVET_unmodified_fast5 -s IVET_unmodified_guppy --num_callers 40 --recursive --fast5_out --config rna_r9.4.1_70bps_hac.cfg\n",
    "\n",
    "#multi to single\n",
    "multi_to_single_fast5 -i IVET_unmodified_guppy -s IVET_unmodified_guppy_single -t 40 --recursive \n",
    "\n",
    "#resquiggle\n",
    "tombo resquiggle --overwrite --basecall-group Basecall_1D_001 IVET_unmodified_guppy_single ../data/IVET_reference.fa --processes 20 --fit-global-scale --include-event-stdev\n",
    "cat IVET_unmodified_guppy/pass/*.fastq >IVET_unmodified.fastq\n",
    "\n",
    "#map reads to reference\n",
    "minimap2 -ax map-ont ../data/IVET_reference.fa IVET_unmodified.fastq > IVET_unmodified.sam\n",
    "\n",
    "#feature extraction\n",
    "python scripts/extract_signal_from_fast5.py -p 40 --fast5 IVET_unmodified_guppy_single --reference ../data/IVET_reference.fa --sam IVET_unmodified.sam --output IVET_unmodified.signal.tsv --clip 10\n",
    "python scripts/extract_feature_from_signal.py  --signal_file IVET_unmodified.signal.tsv --clip 10 --output IVET_unmodified_A.feature.tsv --motif NNANN\n",
    "python scripts/extract_feature_from_signal.py  --signal_file IVET_unmodified.signal.tsv --clip 10 --output IVET_unmodified_C.feature.tsv --motif NNCNN"
   ]
  },
  {
   "cell_type": "markdown",
   "id": "5449722a-0060-4802-9f5b-460aed241afb",
   "metadata": {},
   "source": [
    "#### IVET m1A"
   ]
  },
  {
   "cell_type": "code",
   "execution_count": null,
   "id": "db0792a1-bce0-4f80-9c4d-5e269b709451",
   "metadata": {},
   "outputs": [],
   "source": [
    "#IVET m1A\n",
    "\n",
    "#basecalling\n",
    "guppy_basecaller -i IVET_m1A_fast5 -s IVET_m1A_guppy --num_callers 40 --recursive --fast5_out --config rna_r9.4.1_70bps_hac.cfg\n",
    "\n",
    "#multi to single\n",
    "multi_to_single_fast5 -i IVET_m1A_guppy -s IVET_m1A_guppy_single -t 40 --recursive \n",
    "\n",
    "#resquiggle\n",
    "tombo resquiggle --overwrite --basecall-group Basecall_1D_001 IVET_m1A_guppy_single ../data/IVET_reference.fa --processes 20 --fit-global-scale --include-event-stdev\n",
    "cat IVET_m1A_guppy/pass/*.fastq >IVET_m1A.fastq\n",
    "\n",
    "#map reads to reference\n",
    "minimap2 -ax map-ont ../data/IVET_reference.fa IVET_m1A.fastq > IVET_m1A.sam\n",
    "\n",
    "#feature extraction\n",
    "python scripts/extract_signal_from_fast5.py -p 40 --fast5 IVET_m1A_guppy_single --reference ../data/IVET_reference.fa --sam IVET_m1A.sam --output IVET_m1A.signal.tsv --clip 10\n",
    "python scripts/extract_feature_from_signal.py  --signal_file IVET_m1A.signal.tsv --clip 10 --output IVET_m1A.feature.tsv --motif NNANN\n"
   ]
  },
  {
   "cell_type": "markdown",
   "id": "9f7394ec-f28a-4cf4-8f94-1c14ddaa2a0c",
   "metadata": {},
   "source": [
    "#### IVET m6A"
   ]
  },
  {
   "cell_type": "code",
   "execution_count": null,
   "id": "dd028b6d-bd73-4dd6-97c7-6610b9bc7ac9",
   "metadata": {},
   "outputs": [],
   "source": [
    "#IVET m6A\n",
    "\n",
    "#basecalling\n",
    "guppy_basecaller -i IVET_m6A_fast5 -s IVET_m6A_guppy --num_callers 40 --recursive --fast5_out --config rna_r9.4.1_70bps_hac.cfg\n",
    "\n",
    "#multi to single\n",
    "multi_to_single_fast5 -i IVET_m6A_guppy -s IVET_m6A_guppy_single -t 40 --recursive \n",
    "\n",
    "#resquiggle\n",
    "tombo resquiggle --overwrite --basecall-group Basecall_1D_001 IVET_m6A_guppy_single ../data/IVET_reference.fa --processes 20 --fit-global-scale --include-event-stdev\n",
    "cat IVET_m6A_guppy/pass/*.fastq >IVET_m6A.fastq\n",
    "\n",
    "#map reads to reference\n",
    "minimap2 -ax map-ont ../data/IVET_reference.fa IVET_m6A.fastq > IVET_m6A.sam\n",
    "\n",
    "#feature extraction\n",
    "python scripts/extract_signal_from_fast5.py -p 40 --fast5 IVET_m6A_guppy_single --reference ../data/IVET_reference.fa --sam IVET_m6A.sam --output IVET_m6A.signal.tsv --clip 10\n",
    "python scripts/extract_feature_from_signal.py  --signal_file IVET_m6A.signal.tsv --clip 10 --output IVET_m6A.feature.tsv --motif NNANN"
   ]
  },
  {
   "cell_type": "markdown",
   "id": "365255f9-ddef-42ef-8cf8-56f998d583c7",
   "metadata": {},
   "source": [
    "#### IVET m5C"
   ]
  },
  {
   "cell_type": "code",
   "execution_count": null,
   "id": "c9264f30-c519-47f5-a6fd-2e71f7b69102",
   "metadata": {},
   "outputs": [],
   "source": [
    "#IVET m5C\n",
    "\n",
    "#basecalling\n",
    "guppy_basecaller -i IVET_m5C_fast5 -s IVET_m5C_guppy --num_callers 40 --recursive --fast5_out --config rna_r9.4.1_70bps_hac.cfg\n",
    "\n",
    "#multi to single\n",
    "multi_to_single_fast5 -i IVET_m5C_guppy -s IVET_m5C_guppy_single -t 40 --recursive \n",
    "\n",
    "#resquiggle\n",
    "tombo resquiggle --overwrite --basecall-group Basecall_1D_001 IVET_m5C_guppy_single ../data/IVET_reference.fa --processes 20 --fit-global-scale --include-event-stdev\n",
    "cat IVET_m5C_guppy/pass/*.fastq >IVET_m5C.fastq\n",
    "\n",
    "#map reads to reference\n",
    "minimap2 -ax map-ont ../data/IVET_reference.fa IVET_m5C.fastq > IVET_m5C.sam\n",
    "\n",
    "#feature extraction\n",
    "python scripts/extract_signal_from_fast5.py -p 40 --fast5 IVET_m5C_guppy_single --reference ../data/IVET_reference.fa --sam IVET_m5C.sam --output IVET_m5C.signal.tsv --clip 10\n",
    "python scripts/extract_feature_from_signal.py  --signal_file IVET_m5C.signal.tsv --clip 10 --output IVET_m5C.feature.tsv --motif NNCNN"
   ]
  },
  {
   "cell_type": "markdown",
   "id": "58fd0b7a-f0af-44a3-9d9e-e06c9b3be3c9",
   "metadata": {},
   "source": [
    "### Train-test split"
   ]
  },
  {
   "cell_type": "code",
   "execution_count": null,
   "id": "dc882b3d-1e58-4853-acad-f8250276c8ee",
   "metadata": {},
   "outputs": [],
   "source": [
    "python scripts/train_test_split.py --input_file IVET_unmodified_A.feature.tsv --train_file IVET_unmodified_A.train.feature.tsv --test_file IVET_unmodified_A.test.feature.tsv --train_ratio 0.8\n",
    "python scripts/train_test_split.py --input_file IVET_unmodified_C.feature.tsv --train_file IVET_unmodified_C.train.feature.tsv --test_file IVET_unmodified_C.test.feature.tsv --train_ratio 0.8\n",
    "python scripts/train_test_split.py --input_file IVET_m1A.feature.tsv --train_file IVET_m1A.train.feature.tsv --test_file IVET_m1A.test.feature.tsv --train_ratio 0.8\n",
    "python scripts/train_test_split.py --input_file IVET_m6A.feature.tsv --train_file IVET_m6A.train.feature.tsv --test_file IVET_m6A.test.feature.tsv --train_ratio 0.8\n",
    "python scripts/train_test_split.py --input_file IVET_m5C.feature.tsv --train_file IVET_m5C.train.feature.tsv --test_file IVET_m5C.test.feature.tsv --train_ratio 0.8"
   ]
  },
  {
   "cell_type": "markdown",
   "id": "30e7816f-8e70-4ac7-967c-7db3478cea2f",
   "metadata": {},
   "source": [
    "#### Model training"
   ]
  },
  {
   "cell_type": "code",
   "execution_count": null,
   "id": "62fe3de1-a07a-4714-ac46-280bd3824f67",
   "metadata": {},
   "outputs": [],
   "source": [
    "#train m6A model\n",
    "python scripts/TandemMod.py --run_mode train \\\n",
    "  --new_model model/m6A.IVET.pkl \\\n",
    "  --train_data_mod IVET_m6A.train.feature.tsv \\\n",
    "  --train_data_unmod IVET_unmodified_A.train.feature.tsv \\\n",
    "  --test_data_mod IVET_m6A.test.feature.tsv \\\n",
    "  --test_data_unmod IVET_unmodified_A.test.feature.tsv \\\n",
    "  --epoch 100\n",
    "\n",
    "#train m5C model\n",
    "python scripts/TandemMod.py --run_mode train \\\n",
    "  --new_model model/m5C.IVET.pkl \\\n",
    "  --train_data_mod IVET_m5C.train.feature.tsv \\\n",
    "  --train_data_unmod IVET_unmodified_C.train.feature.tsv \\\n",
    "  --test_data_mod IVET_m5C.test.feature.tsv \\\n",
    "  --test_data_unmod IVET_unmodified_C.test.feature.tsv \\\n",
    "  --epoch 100"
   ]
  }
 ],
 "metadata": {
  "kernelspec": {
   "display_name": "Python 3 (ipykernel)",
   "language": "python",
   "name": "python3"
  },
  "language_info": {
   "codemirror_mode": {
    "name": "ipython",
    "version": 3
   },
   "file_extension": ".py",
   "mimetype": "text/x-python",
   "name": "python",
   "nbconvert_exporter": "python",
   "pygments_lexer": "ipython3",
   "version": "3.8.13"
  }
 },
 "nbformat": 4,
 "nbformat_minor": 5
}
